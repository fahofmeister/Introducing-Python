{
  "cells": [
    {
      "metadata": {
        "collapsed": true
      },
      "cell_type": "markdown",
      "source": "# Chapter 9\n## Things to Do"
    },
    {
      "metadata": {},
      "cell_type": "markdown",
      "source": "### 9.1 Answer"
    },
    {
      "metadata": {
        "trusted": true
      },
      "cell_type": "code",
      "source": "!pip install flask",
      "execution_count": 1,
      "outputs": [
        {
          "output_type": "stream",
          "text": "Requirement already satisfied: flask in /home/nbuser/anaconda3_501/lib/python3.6/site-packages (1.0.3)\nRequirement already satisfied: Werkzeug>=0.14 in /home/nbuser/anaconda3_501/lib/python3.6/site-packages (from flask) (0.14.1)\nRequirement already satisfied: click>=5.1 in /home/nbuser/anaconda3_501/lib/python3.6/site-packages (from flask) (7.0)\nRequirement already satisfied: Jinja2>=2.10 in /home/nbuser/anaconda3_501/lib/python3.6/site-packages (from flask) (2.10)\nRequirement already satisfied: itsdangerous>=0.24 in /home/nbuser/anaconda3_501/lib/python3.6/site-packages (from flask) (0.24)\nRequirement already satisfied: MarkupSafe>=0.23 in /home/nbuser/anaconda3_501/lib/python3.6/site-packages (from Jinja2>=2.10->flask) (1.1.0)\n\u001b[33mWARNING: You are using pip version 19.3.1; however, version 20.1.1 is available.\nYou should consider upgrading via the 'pip install --upgrade pip' command.\u001b[0m\n",
          "name": "stdout"
        }
      ]
    },
    {
      "metadata": {},
      "cell_type": "markdown",
      "source": "## 9.2 Answer"
    },
    {
      "metadata": {
        "trusted": true
      },
      "cell_type": "code",
      "source": "%%writefile flask1.py\n\nfrom flask import Flask\n\napp = Flask(__name__)\napp.run(port=5000, debug=True)",
      "execution_count": 2,
      "outputs": [
        {
          "output_type": "stream",
          "text": "Writing flask1.py\n",
          "name": "stdout"
        }
      ]
    },
    {
      "metadata": {
        "trusted": true
      },
      "cell_type": "code",
      "source": "!python36 flask1.py",
      "execution_count": null,
      "outputs": [
        {
          "output_type": "stream",
          "text": " * Serving Flask app \"flask1\" (lazy loading)\n * Environment: production\n\u001b[31m   WARNING: This is a development server. Do not use it in a production deployment.\u001b[0m\n\u001b[2m   Use a production WSGI server instead.\u001b[0m\n * Debug mode: on\n * Running on http://127.0.0.1:5000/ (Press CTRL+C to quit)\n * Restarting with stat\n * Debugger is active!\n * Debugger PIN: 209-343-909\n",
          "name": "stdout"
        }
      ]
    },
    {
      "metadata": {},
      "cell_type": "markdown",
      "source": "## 9.3 Answer"
    },
    {
      "metadata": {
        "trusted": true
      },
      "cell_type": "code",
      "source": "%%writefile flask2.py\n\nfrom flask import Flask\n\napp = Flask(__name__)\n\n@app.route('/')\ndef home():\n    return \"It's alive!\"\n\napp.run(debug=True)",
      "execution_count": 1,
      "outputs": [
        {
          "output_type": "stream",
          "text": "Writing flask2.py\n",
          "name": "stdout"
        }
      ]
    },
    {
      "metadata": {
        "trusted": true
      },
      "cell_type": "code",
      "source": "!python flask2.py",
      "execution_count": 10,
      "outputs": [
        {
          "output_type": "stream",
          "text": " * Serving Flask app \"flask2\" (lazy loading)\n * Environment: production\n\u001b[31m   WARNING: This is a development server. Do not use it in a production deployment.\u001b[0m\n\u001b[2m   Use a production WSGI server instead.\u001b[0m\n * Debug mode: on\n * Running on http://127.0.0.1:5000/ (Press CTRL+C to quit)\n * Restarting with stat\n * Debugger is active!\n * Debugger PIN: 163-915-707\n^C\n",
          "name": "stdout"
        }
      ]
    },
    {
      "metadata": {},
      "cell_type": "markdown",
      "source": "When using ```curl http://localhost:5000``` on a terminal window, the server returns \"It's alive!\""
    },
    {
      "metadata": {},
      "cell_type": "markdown",
      "source": "## 9.4 Answer"
    },
    {
      "metadata": {
        "trusted": true,
        "scrolled": true
      },
      "cell_type": "code",
      "source": "%%writefile .\\templates\\home.html\n\nI'm of course referring to {{thing}}, which is {{height}} feet tall and {{color}}.",
      "execution_count": 14,
      "outputs": [
        {
          "output_type": "stream",
          "text": "Writing .\\templates\\home.html\n",
          "name": "stdout"
        }
      ]
    },
    {
      "metadata": {},
      "cell_type": "markdown",
      "source": "## 9.5 Answer"
    },
    {
      "metadata": {
        "trusted": true
      },
      "cell_type": "code",
      "source": "%%writefile flask3.py\n\nfrom flask import Flask, request, render_template\n\napp = Flask(__name__)\n\n@app.route('/')\ndef home():\n    thing = request.values.get('thing')\n    height = request.values.get('height')\n    color = request.values.get('color')\n    return render_template('home.html',\n                          thing=thing,\n                          height=height,\n                          color=color)\n\napp.run(debug=True)",
      "execution_count": 17,
      "outputs": [
        {
          "output_type": "stream",
          "text": "Overwriting flask3.py\n",
          "name": "stdout"
        }
      ]
    },
    {
      "metadata": {
        "trusted": true,
        "scrolled": true
      },
      "cell_type": "code",
      "source": "!python flask3.py",
      "execution_count": 18,
      "outputs": [
        {
          "output_type": "stream",
          "text": " * Serving Flask app \"flask3\" (lazy loading)\n * Environment: production\n\u001b[31m   WARNING: This is a development server. Do not use it in a production deployment.\u001b[0m\n\u001b[2m   Use a production WSGI server instead.\u001b[0m\n * Debug mode: on\n * Running on http://127.0.0.1:5000/ (Press CTRL+C to quit)\n * Restarting with stat\n * Debugger is active!\n * Debugger PIN: 163-915-707\n127.0.0.1 - - [26/May/2020 18:52:08] \"\u001b[37mGET /?thing=Octothorpe HTTP/1.1\u001b[0m\" 200 -\n127.0.0.1 - - [26/May/2020 18:52:18] \"\u001b[37mGET /?thing=Octothorpe HTTP/1.1\u001b[0m\" 200 -\n127.0.0.1 - - [26/May/2020 18:53:02] \"\u001b[37mGET / HTTP/1.1\u001b[0m\" 200 -\n127.0.0.1 - - [26/May/2020 18:53:42] \"\u001b[37mGET /?thing=Octothorpe HTTP/1.1\u001b[0m\" 200 -\n127.0.0.1 - - [26/May/2020 18:54:28] \"\u001b[37mGET /?thing=Octothorpe HTTP/1.1\u001b[0m\" 200 -\n127.0.0.1 - - [26/May/2020 18:54:40] \"\u001b[37mGET /?thing=Octothorpe&height=7&color=gree HTTP/1.1\u001b[0m\" 200 -\n127.0.0.1 - - [26/May/2020 18:54:50] \"\u001b[37mGET /?thing=Octothorpe&height=7&color=green HTTP/1.1\u001b[0m\" 200 -\n^C\n",
          "name": "stdout"
        }
      ]
    },
    {
      "metadata": {},
      "cell_type": "markdown",
      "source": "When using ```curl http://localhost:5000/?thing=Octothorpe&height=7&color=green``` on a terminal window, the server returns\n\"I'm of course referring to Octothorpe, which is 7 feet tall and green.\""
    }
  ],
  "metadata": {
    "kernelspec": {
      "name": "python36",
      "display_name": "Python 3.6",
      "language": "python"
    },
    "language_info": {
      "mimetype": "text/x-python",
      "nbconvert_exporter": "python",
      "name": "python",
      "pygments_lexer": "ipython3",
      "version": "3.6.6",
      "file_extension": ".py",
      "codemirror_mode": {
        "version": 3,
        "name": "ipython"
      }
    }
  },
  "nbformat": 4,
  "nbformat_minor": 2
}