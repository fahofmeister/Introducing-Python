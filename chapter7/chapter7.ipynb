{
  "cells": [
    {
      "metadata": {
        "collapsed": true
      },
      "cell_type": "markdown",
      "source": "# Chapter 7\n## Things to Do"
    },
    {
      "metadata": {},
      "cell_type": "markdown",
      "source": "### 7.1 Answer"
    },
    {
      "metadata": {
        "trusted": true
      },
      "cell_type": "code",
      "source": "import unicodedata\nmystery = '\\U0001f4a9'\nprint(unicodedata.name(mystery))\nprint(mystery)",
      "execution_count": 1,
      "outputs": [
        {
          "output_type": "stream",
          "text": "PILE OF POO\n💩\n",
          "name": "stdout"
        }
      ]
    },
    {
      "metadata": {
        "trusted": true
      },
      "cell_type": "markdown",
      "source": "### 7.2 Answer"
    },
    {
      "metadata": {
        "trusted": true
      },
      "cell_type": "code",
      "source": "pop_bytes = mystery.encode('utf-8')\nprint(pop_bytes)",
      "execution_count": 2,
      "outputs": [
        {
          "output_type": "stream",
          "text": "b'\\xf0\\x9f\\x92\\xa9'\n",
          "name": "stdout"
        }
      ]
    },
    {
      "metadata": {},
      "cell_type": "markdown",
      "source": "### 7.3 Answer"
    },
    {
      "metadata": {
        "trusted": true
      },
      "cell_type": "code",
      "source": "pop_string = pop_bytes.decode('utf-8')\nprint(pop_string)\npop_string == mystery",
      "execution_count": 4,
      "outputs": [
        {
          "output_type": "stream",
          "text": "💩\n",
          "name": "stdout"
        },
        {
          "output_type": "execute_result",
          "execution_count": 4,
          "data": {
            "text/plain": "True"
          },
          "metadata": {}
        }
      ]
    },
    {
      "metadata": {},
      "cell_type": "markdown",
      "source": "### 7.4 Answer"
    },
    {
      "metadata": {
        "trusted": true
      },
      "cell_type": "code",
      "source": "poem = \"My kitty cat likes %s,\\nMy kitty cat likes %s,\\nMy kitty cat fell on his %s\\nAnd now thinks he's a %s.\"\nargs = ('roast beef', 'ham', 'head', 'clam')\n\nprint(poem % args)",
      "execution_count": 5,
      "outputs": [
        {
          "output_type": "stream",
          "text": "My kitty cat likes roast beef,\nMy kitty cat likes ham,\nMy kitty cat fell on his head\nAnd now thinks he's a clam.\n",
          "name": "stdout"
        }
      ]
    },
    {
      "metadata": {},
      "cell_type": "markdown",
      "source": "### 7.5 Answer"
    },
    {
      "metadata": {
        "trusted": true
      },
      "cell_type": "code",
      "source": "letter = '''Dear {salutation} {name},\n\nThank you for your letter. We are sorry that our {product} {verbed} in your\n{room}. Please note that it should never be used in a {room}, especially\nnear any {animals}.\n\nSend us your receipt and {amount} for shipping and handling. We will send\nyou another {product} that, in our tests, is {percent}% less likely to\nhave {verbed}.\n\nThank you for your support.\n\nSincerely,\n{spokesman}\n{job_title}'''",
      "execution_count": 9,
      "outputs": []
    },
    {
      "metadata": {},
      "cell_type": "markdown",
      "source": "7.6 Answer"
    },
    {
      "metadata": {
        "trusted": true
      },
      "cell_type": "code",
      "source": "response = {'salutation': 'Mr.',\n            'name': 'Jones',\n            'product': 'deodorizer',\n            'verbed': 'trashed',\n            'room': 'closed room',\n            'animals': 'pets',\n            'amount': '5 dollars',\n            'percent': '99',\n            'spokesman': 'Fernando',\n            'job_title': 'Nice guy'\n}\nprint(letter.format(**response))",
      "execution_count": 12,
      "outputs": [
        {
          "output_type": "stream",
          "text": "Dear Mr. Jones,\n\nThank you for your letter. We are sorry that our deodorizer trashed in your\nclosed room. Please note that it should never be used in a closed room, especially\nnear any pets.\n\nSend us your receipt and 5 dollars for shipping and handling. We will send\nyou another deodorizer that, in our tests, is 99% less likely to\nhave trashed.\n\nThank you for your support.\n\nSincerely,\nFernando\nNice guy\n",
          "name": "stdout"
        }
      ]
    },
    {
      "metadata": {},
      "cell_type": "markdown",
      "source": "### 7.7 Answer"
    },
    {
      "metadata": {
        "trusted": true
      },
      "cell_type": "code",
      "source": "mammoth = '''We have seen thee, queen of cheese,\nLying quietly at your ease,\nGently fanned by evening breeze,\nThy fair form no flies dare seize.\n\nAll gaily dressed soon you'll go\nTo the great Provincial show,\nTo be admired by many a beau\nIn the city of Toronto.\n\nCows numerous as a swarm of bees,\nOr as the leaves upon the trees,\nIt did require to make thee please,\nAnd stand unrivalled, queen of cheese.\n\nMay you not receive a scar as\nWe have heard that Mr. Harris\nIntends to send you off as far as\nThe great world's show at Paris.\n\nOf the youth beware of these,\nFor some of them might rudely squeeze\nAnd bite your cheek, then songs or glees\nWe could not sing, oh! queen of cheese.\n\nWe'rt thou suspended from balloon,\nYou'd cast a shade even at noon,\nFolks would think it was the moon\nAbout to fall and crush them soon.'''",
      "execution_count": 13,
      "outputs": []
    },
    {
      "metadata": {},
      "cell_type": "markdown",
      "source": "### 7.8 Answer"
    },
    {
      "metadata": {
        "trusted": true
      },
      "cell_type": "code",
      "source": "import re\npat1 = r'\\bc\\w*'\nm1 = re.findall(pat1, mammoth)\nprint(m1)",
      "execution_count": 22,
      "outputs": [
        {
          "output_type": "stream",
          "text": "['cheese', 'city', 'cheese', 'cheek', 'could', 'cheese', 'cast', 'crush']\n",
          "name": "stdout"
        }
      ]
    },
    {
      "metadata": {},
      "cell_type": "markdown",
      "source": "### 7.9 Answer"
    },
    {
      "metadata": {
        "trusted": true
      },
      "cell_type": "code",
      "source": "pat2 = r'\\bc\\w{3}\\b'\nm2 = re.findall(pat2, mammoth)\nprint(m2)",
      "execution_count": 24,
      "outputs": [
        {
          "output_type": "stream",
          "text": "['city', 'cast']\n",
          "name": "stdout"
        }
      ]
    },
    {
      "metadata": {},
      "cell_type": "markdown",
      "source": "### 7.10 Answer"
    },
    {
      "metadata": {
        "trusted": true
      },
      "cell_type": "code",
      "source": "pat3 = r'\\w*r\\b'\nm3 = re.findall(pat3, mammoth)\nprint(m3)",
      "execution_count": 25,
      "outputs": [
        {
          "output_type": "stream",
          "text": "['your', 'fair', 'Or', 'scar', 'Mr', 'far', 'For', 'your', 'or']\n",
          "name": "stdout"
        }
      ]
    },
    {
      "metadata": {},
      "cell_type": "markdown",
      "source": "### 7.11 Answer"
    },
    {
      "metadata": {
        "trusted": true
      },
      "cell_type": "code",
      "source": "pat4 = r'\\w*[aeiou]{3}\\w*'\nm4 = re.findall(pat4, mammoth)\nprint(m4)",
      "execution_count": 27,
      "outputs": [
        {
          "output_type": "stream",
          "text": "['queen', 'quietly', 'beau', 'queen', 'squeeze', 'queen']\n",
          "name": "stdout"
        }
      ]
    },
    {
      "metadata": {},
      "cell_type": "markdown",
      "source": "### 7.12 Answer"
    },
    {
      "metadata": {
        "trusted": true
      },
      "cell_type": "code",
      "source": "import binascii\n\ngif = binascii.unhexlify('47494638396101000100800000000000ffffff21f9' + '0401000000002c000000000100010000020144003b')\n\nprint(gif)",
      "execution_count": 29,
      "outputs": [
        {
          "output_type": "stream",
          "text": "b'GIF89a\\x01\\x00\\x01\\x00\\x80\\x00\\x00\\x00\\x00\\x00\\xff\\xff\\xff!\\xf9\\x04\\x01\\x00\\x00\\x00\\x00,\\x00\\x00\\x00\\x00\\x01\\x00\\x01\\x00\\x00\\x02\\x01D\\x00;'\n",
          "name": "stdout"
        }
      ]
    },
    {
      "metadata": {},
      "cell_type": "markdown",
      "source": "### 7.13 Answer"
    },
    {
      "metadata": {
        "trusted": true
      },
      "cell_type": "code",
      "source": "gif[0:6] == b'GIF89a'\n",
      "execution_count": 41,
      "outputs": [
        {
          "output_type": "execute_result",
          "execution_count": 41,
          "data": {
            "text/plain": "True"
          },
          "metadata": {}
        }
      ]
    },
    {
      "metadata": {},
      "cell_type": "markdown",
      "source": "### 7.14 Answer"
    },
    {
      "metadata": {
        "trusted": true
      },
      "cell_type": "code",
      "source": "import struct\nwidth, height = struct.unpack('<HH', gif[6:10])\nwidth, height",
      "execution_count": 42,
      "outputs": [
        {
          "output_type": "execute_result",
          "execution_count": 42,
          "data": {
            "text/plain": "(1, 1)"
          },
          "metadata": {}
        }
      ]
    }
  ],
  "metadata": {
    "kernelspec": {
      "name": "python36",
      "display_name": "Python 3.6",
      "language": "python"
    },
    "language_info": {
      "mimetype": "text/x-python",
      "nbconvert_exporter": "python",
      "name": "python",
      "pygments_lexer": "ipython3",
      "version": "3.6.6",
      "file_extension": ".py",
      "codemirror_mode": {
        "version": 3,
        "name": "ipython"
      }
    }
  },
  "nbformat": 4,
  "nbformat_minor": 2
}