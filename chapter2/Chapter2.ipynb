{
  "cells": [
    {
      "metadata": {},
      "cell_type": "markdown",
      "source": "# Chapter 2\n\n## Things to Do"
    },
    {
      "metadata": {},
      "cell_type": "markdown",
      "source": "### 2.1 and 2.2 Answer"
    },
    {
      "metadata": {
        "trusted": true
      },
      "cell_type": "code",
      "source": "seconds_per_minute = 60\nminutes_per_hour = 60\nseconds_per_hour = seconds_per_minute * minutes_per_hour\n\nseconds_per_hour",
      "execution_count": 2,
      "outputs": [
        {
          "output_type": "execute_result",
          "execution_count": 2,
          "data": {
            "text/plain": "3600"
          },
          "metadata": {}
        }
      ]
    },
    {
      "metadata": {},
      "cell_type": "markdown",
      "source": "### 2.3 and 2.4 Answer"
    },
    {
      "metadata": {
        "trusted": true
      },
      "cell_type": "code",
      "source": "hours_per_day = 24\nseconds_per_day = seconds_per_hour * hours_per_day\n\nseconds_per_day",
      "execution_count": 3,
      "outputs": [
        {
          "output_type": "execute_result",
          "execution_count": 3,
          "data": {
            "text/plain": "86400"
          },
          "metadata": {}
        }
      ]
    },
    {
      "metadata": {},
      "cell_type": "markdown",
      "source": "### 2.5 Answer\n\nDivision with decimal numbers"
    },
    {
      "metadata": {
        "trusted": true
      },
      "cell_type": "code",
      "source": "float_point_division = seconds_per_day / seconds_per_hour\n\nfloat_point_division",
      "execution_count": 4,
      "outputs": [
        {
          "output_type": "execute_result",
          "execution_count": 4,
          "data": {
            "text/plain": "24.0"
          },
          "metadata": {}
        }
      ]
    },
    {
      "metadata": {},
      "cell_type": "markdown",
      "source": "### 2.6 Answer\n\nInteger division"
    },
    {
      "metadata": {
        "trusted": true
      },
      "cell_type": "code",
      "source": "integer_division = seconds_per_day // seconds_per_hour\n\ninteger_division",
      "execution_count": 5,
      "outputs": [
        {
          "output_type": "execute_result",
          "execution_count": 5,
          "data": {
            "text/plain": "24"
          },
          "metadata": {}
        }
      ]
    }
  ],
  "metadata": {
    "kernelspec": {
      "name": "python36",
      "display_name": "Python 3.6",
      "language": "python"
    },
    "language_info": {
      "mimetype": "text/x-python",
      "nbconvert_exporter": "python",
      "name": "python",
      "pygments_lexer": "ipython3",
      "version": "3.6.6",
      "file_extension": ".py",
      "codemirror_mode": {
        "version": 3,
        "name": "ipython"
      }
    }
  },
  "nbformat": 4,
  "nbformat_minor": 2
}