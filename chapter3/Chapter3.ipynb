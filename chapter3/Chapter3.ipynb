{
  "cells": [
    {
      "metadata": {
        "collapsed": true
      },
      "cell_type": "markdown",
      "source": "# Chapter 3\n\n## To remember\n\nLists\n\n    ListName = [value1, value2, ...]\n\nTuple (constant list)\n\n    TupleName = (value1, value2, ...,)\n    \n    * Remember the comma after the values *\n\nDictionaries\n\n    DictName = {key1 : value1, key2 : value2, ...}\n    \nSets\n\n    SetName = {value1, value2, ...}\n\n## Things to Do"
    },
    {
      "metadata": {},
      "cell_type": "markdown",
      "source": "### 3.1, 3.2 and 3.3 Answers"
    },
    {
      "metadata": {
        "trusted": true
      },
      "cell_type": "code",
      "source": "years_list = [1986, 1987, 1988, 1989, 1990]\n\nyears_list",
      "execution_count": 1,
      "outputs": [
        {
          "output_type": "execute_result",
          "execution_count": 1,
          "data": {
            "text/plain": "[1986, 1987, 1988, 1989, 1990]"
          },
          "metadata": {}
        }
      ]
    },
    {
      "metadata": {
        "trusted": true
      },
      "cell_type": "code",
      "source": "years_list[3]",
      "execution_count": 2,
      "outputs": [
        {
          "output_type": "execute_result",
          "execution_count": 2,
          "data": {
            "text/plain": "1989"
          },
          "metadata": {}
        }
      ]
    },
    {
      "metadata": {
        "trusted": true
      },
      "cell_type": "code",
      "source": "years_list[-1]",
      "execution_count": 3,
      "outputs": [
        {
          "output_type": "execute_result",
          "execution_count": 3,
          "data": {
            "text/plain": "1990"
          },
          "metadata": {}
        }
      ]
    },
    {
      "metadata": {},
      "cell_type": "markdown",
      "source": "### 3.4, 3.5, 3.6 annd 3.7 Answers"
    },
    {
      "metadata": {
        "trusted": true
      },
      "cell_type": "code",
      "source": "things = ['mozzarella', 'cinderella', 'salmonella']",
      "execution_count": 4,
      "outputs": []
    },
    {
      "metadata": {
        "trusted": true
      },
      "cell_type": "code",
      "source": "print(things[1].capitalize())\n\nprint(things)",
      "execution_count": 5,
      "outputs": [
        {
          "output_type": "stream",
          "text": "Cinderella\n['mozzarella', 'cinderella', 'salmonella']\n",
          "name": "stdout"
        }
      ]
    },
    {
      "metadata": {
        "trusted": true
      },
      "cell_type": "code",
      "source": "things[0] = things[0].upper()\n\nthings",
      "execution_count": 6,
      "outputs": [
        {
          "output_type": "execute_result",
          "execution_count": 6,
          "data": {
            "text/plain": "['MOZZARELLA', 'cinderella', 'salmonella']"
          },
          "metadata": {}
        }
      ]
    },
    {
      "metadata": {
        "trusted": true
      },
      "cell_type": "code",
      "source": "things.remove('salmonella')\n\nthings",
      "execution_count": 7,
      "outputs": [
        {
          "output_type": "execute_result",
          "execution_count": 7,
          "data": {
            "text/plain": "['MOZZARELLA', 'cinderella']"
          },
          "metadata": {}
        }
      ]
    },
    {
      "metadata": {},
      "cell_type": "markdown",
      "source": "### 3.8 and 3.9 Answers"
    },
    {
      "metadata": {
        "trusted": true
      },
      "cell_type": "code",
      "source": "surprise = ['Groucho', 'Chico', 'Harpo']",
      "execution_count": 8,
      "outputs": []
    },
    {
      "metadata": {
        "trusted": true
      },
      "cell_type": "code",
      "source": "surprise[-1] = surprise[-1].lower()\nsurprise[-1] = surprise[-1][::-1]\nsurprise[-1] = surprise[-1].capitalize()\n\nsurprise",
      "execution_count": 9,
      "outputs": [
        {
          "output_type": "execute_result",
          "execution_count": 9,
          "data": {
            "text/plain": "['Groucho', 'Chico', 'Oprah']"
          },
          "metadata": {}
        }
      ]
    },
    {
      "metadata": {},
      "cell_type": "markdown",
      "source": "### 3.10, 3.11, 3.12, 3.13 and 3.14 Answers"
    },
    {
      "metadata": {
        "trusted": true
      },
      "cell_type": "code",
      "source": "e2f = {\n    'dog':'chien',\n    'cat':'chat',\n    'walrus':'morse',\n}\n\ne2f",
      "execution_count": 10,
      "outputs": [
        {
          "output_type": "execute_result",
          "execution_count": 10,
          "data": {
            "text/plain": "{'dog': 'chien', 'cat': 'chat', 'walrus': 'morse'}"
          },
          "metadata": {}
        }
      ]
    },
    {
      "metadata": {
        "trusted": true
      },
      "cell_type": "code",
      "source": "print(e2f['walrus'])",
      "execution_count": 11,
      "outputs": [
        {
          "output_type": "stream",
          "text": "morse\n",
          "name": "stdout"
        }
      ]
    },
    {
      "metadata": {
        "trusted": true
      },
      "cell_type": "code",
      "source": "f2e = {}\nfor english, french in e2f.items():\n    f2e[french] = english\n\nf2e",
      "execution_count": 12,
      "outputs": [
        {
          "output_type": "execute_result",
          "execution_count": 12,
          "data": {
            "text/plain": "{'chien': 'dog', 'chat': 'cat', 'morse': 'walrus'}"
          },
          "metadata": {}
        }
      ]
    },
    {
      "metadata": {
        "trusted": true
      },
      "cell_type": "code",
      "source": "f2e['chien']",
      "execution_count": 13,
      "outputs": [
        {
          "output_type": "execute_result",
          "execution_count": 13,
          "data": {
            "text/plain": "'dog'"
          },
          "metadata": {}
        }
      ]
    },
    {
      "metadata": {
        "trusted": true
      },
      "cell_type": "code",
      "source": "english_words = set(e2f.keys())\n\nenglish_words",
      "execution_count": 14,
      "outputs": [
        {
          "output_type": "execute_result",
          "execution_count": 14,
          "data": {
            "text/plain": "{'cat', 'dog', 'walrus'}"
          },
          "metadata": {}
        }
      ]
    },
    {
      "metadata": {},
      "cell_type": "markdown",
      "source": "### 3.15, 3.16, 3.17 and 3.18 Answers"
    },
    {
      "metadata": {
        "trusted": true
      },
      "cell_type": "code",
      "source": "cats = ['Henri', 'Grumpy', 'Lucy']\noctopi = {}\nemus = {}\n\nanimals = {\n    'cats' : cats,\n    'octopi' : octopi,\n    'emus' : emus,\n}\nplants = {}\nother = {}\n\nlife = {\n    'animals' : animals,\n    'plants' : plants,\n    'other' : other,\n}",
      "execution_count": 16,
      "outputs": []
    },
    {
      "metadata": {
        "trusted": true
      },
      "cell_type": "code",
      "source": "life.keys()",
      "execution_count": 17,
      "outputs": [
        {
          "output_type": "execute_result",
          "execution_count": 17,
          "data": {
            "text/plain": "dict_keys(['animals', 'plants', 'other'])"
          },
          "metadata": {}
        }
      ]
    },
    {
      "metadata": {
        "trusted": true
      },
      "cell_type": "code",
      "source": "life['animals'].keys()",
      "execution_count": 18,
      "outputs": [
        {
          "output_type": "execute_result",
          "execution_count": 18,
          "data": {
            "text/plain": "dict_keys(['cats', 'octopi', 'emus'])"
          },
          "metadata": {}
        }
      ]
    },
    {
      "metadata": {
        "trusted": true,
        "scrolled": true
      },
      "cell_type": "code",
      "source": "life['animals']['cats']",
      "execution_count": 21,
      "outputs": [
        {
          "output_type": "execute_result",
          "execution_count": 21,
          "data": {
            "text/plain": "['Henri', 'Grumpy', 'Lucy']"
          },
          "metadata": {}
        }
      ]
    }
  ],
  "metadata": {
    "kernelspec": {
      "name": "python36",
      "display_name": "Python 3.6",
      "language": "python"
    },
    "language_info": {
      "mimetype": "text/x-python",
      "nbconvert_exporter": "python",
      "name": "python",
      "pygments_lexer": "ipython3",
      "version": "3.6.6",
      "file_extension": ".py",
      "codemirror_mode": {
        "version": 3,
        "name": "ipython"
      }
    }
  },
  "nbformat": 4,
  "nbformat_minor": 2
}