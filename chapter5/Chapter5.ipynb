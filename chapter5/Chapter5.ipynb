{
  "cells": [
    {
      "metadata": {
        "collapsed": true
      },
      "cell_type": "markdown",
      "source": "# Things to Do"
    },
    {
      "metadata": {},
      "cell_type": "markdown",
      "source": "5.1 Answer"
    },
    {
      "metadata": {},
      "cell_type": "markdown",
      "source": "zoo.py file available in chapter5 folder."
    },
    {
      "metadata": {
        "trusted": true
      },
      "cell_type": "code",
      "source": "import zoo\n\nzoo.hours()",
      "execution_count": 2,
      "outputs": [
        {
          "output_type": "stream",
          "text": "Open 9-5 daily\n",
          "name": "stdout"
        }
      ]
    },
    {
      "metadata": {},
      "cell_type": "markdown",
      "source": "5.2 Answer"
    },
    {
      "metadata": {
        "trusted": true
      },
      "cell_type": "code",
      "source": "import zoo as menagerie\n\nmenagerie.hours()",
      "execution_count": 1,
      "outputs": [
        {
          "output_type": "stream",
          "text": "Open 9-5 daily\n",
          "name": "stdout"
        }
      ]
    },
    {
      "metadata": {},
      "cell_type": "markdown",
      "source": "5.3 Answer"
    },
    {
      "metadata": {
        "trusted": true
      },
      "cell_type": "code",
      "source": "from zoo import hours\n\nhours()",
      "execution_count": 3,
      "outputs": [
        {
          "output_type": "stream",
          "text": "Open 9-5 daily\n",
          "name": "stdout"
        }
      ]
    },
    {
      "metadata": {},
      "cell_type": "markdown",
      "source": "5.4 Answer"
    },
    {
      "metadata": {
        "trusted": true
      },
      "cell_type": "code",
      "source": "from zoo import hours as info\n\ninfo()",
      "execution_count": 4,
      "outputs": [
        {
          "output_type": "stream",
          "text": "Open 9-5 daily\n",
          "name": "stdout"
        }
      ]
    },
    {
      "metadata": {},
      "cell_type": "markdown",
      "source": "5.5 Answer"
    },
    {
      "metadata": {
        "trusted": true
      },
      "cell_type": "code",
      "source": "plain = {\n    'a': 1,\n    'b': 2,\n    'c': 3,\n}\n\nplain",
      "execution_count": 11,
      "outputs": [
        {
          "output_type": "execute_result",
          "execution_count": 11,
          "data": {
            "text/plain": "{'a': 1, 'b': 2, 'c': 3}"
          },
          "metadata": {}
        }
      ]
    },
    {
      "metadata": {},
      "cell_type": "markdown",
      "source": "5.6 Answer"
    },
    {
      "metadata": {
        "trusted": true
      },
      "cell_type": "code",
      "source": "from collections import OrderedDict\n\nfancy = OrderedDict([\n    ('a', 1),\n    ('b', 2),\n    ('c', 3),\n])\nfancy",
      "execution_count": 14,
      "outputs": [
        {
          "output_type": "execute_result",
          "execution_count": 14,
          "data": {
            "text/plain": "OrderedDict([('a', 1), ('b', 2), ('c', 3)])"
          },
          "metadata": {}
        }
      ]
    },
    {
      "metadata": {},
      "cell_type": "markdown",
      "source": "5.7 Answer"
    },
    {
      "metadata": {
        "trusted": true
      },
      "cell_type": "code",
      "source": "from collections import defaultdict\n\ndict_of_lists = defaultdict(list)\ndict_of_lists['a'].append('something for a')\ndict_of_lists['a']",
      "execution_count": 19,
      "outputs": [
        {
          "output_type": "execute_result",
          "execution_count": 19,
          "data": {
            "text/plain": "['something for a']"
          },
          "metadata": {}
        }
      ]
    }
  ],
  "metadata": {
    "kernelspec": {
      "name": "python36",
      "display_name": "Python 3.6",
      "language": "python"
    },
    "language_info": {
      "mimetype": "text/x-python",
      "nbconvert_exporter": "python",
      "name": "python",
      "pygments_lexer": "ipython3",
      "version": "3.6.6",
      "file_extension": ".py",
      "codemirror_mode": {
        "version": 3,
        "name": "ipython"
      }
    }
  },
  "nbformat": 4,
  "nbformat_minor": 2
}