{
  "cells": [
    {
      "metadata": {
        "collapsed": true
      },
      "cell_type": "markdown",
      "source": "# Chapter 10"
    },
    {
      "metadata": {},
      "cell_type": "markdown",
      "source": "## Things to Do"
    },
    {
      "metadata": {},
      "cell_type": "markdown",
      "source": "### 10.1 Answer"
    },
    {
      "metadata": {
        "trusted": true
      },
      "cell_type": "code",
      "source": "from datetime import date\n\nnow = date.today()\ncurrDate = now.isoformat()\n\nwith open('today.txt', 'wt') as file:\n    file.write(currDate)",
      "execution_count": 1,
      "outputs": []
    },
    {
      "metadata": {},
      "cell_type": "markdown",
      "source": "### 10.2 Answer"
    },
    {
      "metadata": {
        "trusted": true
      },
      "cell_type": "code",
      "source": "with open('today.txt', 'rt') as file:\n    today_string = file.read()\n    \nprint(today_string)",
      "execution_count": 2,
      "outputs": [
        {
          "output_type": "stream",
          "text": "2020-05-31\n",
          "name": "stdout"
        }
      ]
    },
    {
      "metadata": {},
      "cell_type": "markdown",
      "source": "### 10.3 Answer"
    },
    {
      "metadata": {
        "trusted": true
      },
      "cell_type": "code",
      "source": "import time\n\nfmt = '%Y-%m-%d'\ntime.strptime(today_string, fmt)",
      "execution_count": 3,
      "outputs": [
        {
          "output_type": "execute_result",
          "execution_count": 3,
          "data": {
            "text/plain": "time.struct_time(tm_year=2020, tm_mon=5, tm_mday=31, tm_hour=0, tm_min=0, tm_sec=0, tm_wday=6, tm_yday=152, tm_isdst=-1)"
          },
          "metadata": {}
        }
      ]
    },
    {
      "metadata": {},
      "cell_type": "markdown",
      "source": "### 10.4 Answer"
    },
    {
      "metadata": {
        "trusted": true
      },
      "cell_type": "code",
      "source": "import os\n\nos.listdir('.')",
      "execution_count": 4,
      "outputs": [
        {
          "output_type": "execute_result",
          "execution_count": 4,
          "data": {
            "text/plain": "['chapter10.ipynb', 'today.txt']"
          },
          "metadata": {}
        }
      ]
    },
    {
      "metadata": {},
      "cell_type": "markdown",
      "source": "### 10.5 Answer"
    },
    {
      "metadata": {
        "trusted": true
      },
      "cell_type": "code",
      "source": "os.listdir('..')",
      "execution_count": 5,
      "outputs": [
        {
          "output_type": "execute_result",
          "execution_count": 5,
          "data": {
            "text/plain": "['.git',\n 'chapter10',\n 'README.md',\n 'chapter8',\n '.gitignore',\n 'chapter6',\n '.ipynb_checkpoints',\n 'chapter4',\n 'LICENSE.md',\n 'chapter9',\n 'chapter7',\n 'chapter3',\n 'chapter5',\n 'chapter2']"
          },
          "metadata": {}
        }
      ]
    },
    {
      "metadata": {},
      "cell_type": "markdown",
      "source": "### 10.6 Answer"
    },
    {
      "metadata": {
        "trusted": true
      },
      "cell_type": "code",
      "source": "from datetime import datetime\nimport time\nimport random\nimport multiprocessing\n\n# internal functions\ndef get_number():\n    return random.choice(range(1, 6))\n\ndef do_this(myID):\n    number = get_number()\n    msg = \"I'm processing number {}, I slept for {} seconds and now is {}\"\n    time.sleep(number)\n    now = datetime.now()\n    print(msg.format(myID, number, now.isoformat()))\n\n# main routine\nfor n in range(1, 4):\n    p = multiprocessing.Process(target=do_this, args=str(n))\n    p.start()",
      "execution_count": 6,
      "outputs": [
        {
          "output_type": "stream",
          "text": "I'm processing number 1, I slept for 3 seconds and now is 2020-05-31T14:17:54.009161\nI'm processing number 3, I slept for 3 seconds and now is 2020-05-31T14:17:54.044278\nI'm processing number 2, I slept for 4 seconds and now is 2020-05-31T14:17:55.012965\n",
          "name": "stdout"
        }
      ]
    },
    {
      "metadata": {},
      "cell_type": "markdown",
      "source": "### 10.7 Answer"
    },
    {
      "metadata": {
        "trusted": true
      },
      "cell_type": "code",
      "source": "from datetime import date\n\nmy_birth = date(1985,8,17)  #random date\nmy_birth.isoformat()",
      "execution_count": 7,
      "outputs": [
        {
          "output_type": "execute_result",
          "execution_count": 7,
          "data": {
            "text/plain": "'1985-08-17'"
          },
          "metadata": {}
        }
      ]
    },
    {
      "metadata": {},
      "cell_type": "markdown",
      "source": "### 10.8 Answer"
    },
    {
      "metadata": {
        "trusted": true
      },
      "cell_type": "code",
      "source": "my_birth.isoweekday()",
      "execution_count": 8,
      "outputs": [
        {
          "output_type": "execute_result",
          "execution_count": 8,
          "data": {
            "text/plain": "6"
          },
          "metadata": {}
        }
      ]
    },
    {
      "metadata": {},
      "cell_type": "markdown",
      "source": "### 10.9 Answer"
    },
    {
      "metadata": {
        "trusted": true
      },
      "cell_type": "code",
      "source": "from datetime import timedelta\n\nday = my_birth + timedelta(days=10000)\nday.isoformat()",
      "execution_count": 9,
      "outputs": [
        {
          "output_type": "execute_result",
          "execution_count": 9,
          "data": {
            "text/plain": "'2013-01-02'"
          },
          "metadata": {}
        }
      ]
    }
  ],
  "metadata": {
    "kernelspec": {
      "name": "python36",
      "display_name": "Python 3.6",
      "language": "python"
    },
    "language_info": {
      "mimetype": "text/x-python",
      "nbconvert_exporter": "python",
      "name": "python",
      "pygments_lexer": "ipython3",
      "version": "3.6.6",
      "file_extension": ".py",
      "codemirror_mode": {
        "version": 3,
        "name": "ipython"
      }
    }
  },
  "nbformat": 4,
  "nbformat_minor": 2
}