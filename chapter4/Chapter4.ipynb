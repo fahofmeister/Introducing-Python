{
  "cells": [
    {
      "metadata": {
        "collapsed": true
      },
      "cell_type": "markdown",
      "source": "# Chapter 4\n\n## Things to Do"
    },
    {
      "metadata": {},
      "cell_type": "markdown",
      "source": "### 4.1 Answer"
    },
    {
      "metadata": {
        "trusted": true
      },
      "cell_type": "code",
      "source": "guess_me = 7\n\nif guess_me < 7:\n    print('too low')\nelif guess_me > 7:\n    print('too high')\nelse:\n    print('just right')",
      "execution_count": 1,
      "outputs": [
        {
          "output_type": "stream",
          "text": "just right\n",
          "name": "stdout"
        }
      ]
    },
    {
      "metadata": {},
      "cell_type": "markdown",
      "source": "### 4.2 Answer"
    },
    {
      "metadata": {
        "trusted": true
      },
      "cell_type": "code",
      "source": "guess_me = 7\nstart = 1\n\nwhile True:\n    \n    if start < guess_me:\n        print('too low')\n    \n    if start == guess_me:\n        print('found it!')\n        break\n        \n    if start > guess_me:\n        print('oops')\n        break\n    \n    start += 1",
      "execution_count": 2,
      "outputs": [
        {
          "output_type": "stream",
          "text": "too low\ntoo low\ntoo low\ntoo low\ntoo low\ntoo low\nfound it!\n",
          "name": "stdout"
        }
      ]
    },
    {
      "metadata": {},
      "cell_type": "markdown",
      "source": "### 4.3 Answer"
    },
    {
      "metadata": {
        "trusted": true
      },
      "cell_type": "code",
      "source": "for number in range(3, -1, -1):\n    print(number)",
      "execution_count": 3,
      "outputs": [
        {
          "output_type": "stream",
          "text": "3\n2\n1\n0\n",
          "name": "stdout"
        }
      ]
    },
    {
      "metadata": {},
      "cell_type": "markdown",
      "source": "### 4.4 Answer"
    },
    {
      "metadata": {
        "trusted": true
      },
      "cell_type": "code",
      "source": "even_numbers = [number for number in range(10) if number % 2 == 0]\n\neven_numbers",
      "execution_count": 4,
      "outputs": [
        {
          "output_type": "execute_result",
          "execution_count": 4,
          "data": {
            "text/plain": "[0, 2, 4, 6, 8]"
          },
          "metadata": {}
        }
      ]
    },
    {
      "metadata": {},
      "cell_type": "markdown",
      "source": "### 4.5 Answer"
    },
    {
      "metadata": {
        "trusted": true
      },
      "cell_type": "code",
      "source": "square_dict = {number : number * number for number in range(10)}\n\nsquare_dict",
      "execution_count": 5,
      "outputs": [
        {
          "output_type": "execute_result",
          "execution_count": 5,
          "data": {
            "text/plain": "{0: 0, 1: 1, 2: 4, 3: 9, 4: 16, 5: 25, 6: 36, 7: 49, 8: 64, 9: 81}"
          },
          "metadata": {}
        }
      ]
    },
    {
      "metadata": {},
      "cell_type": "markdown",
      "source": "### 4.6 Answer"
    },
    {
      "metadata": {
        "trusted": true
      },
      "cell_type": "code",
      "source": "odd_numbers = {number for number in range(10) if number % 2 == 1}\n\nodd_numbers",
      "execution_count": 6,
      "outputs": [
        {
          "output_type": "execute_result",
          "execution_count": 6,
          "data": {
            "text/plain": "{1, 3, 5, 7, 9}"
          },
          "metadata": {}
        }
      ]
    },
    {
      "metadata": {},
      "cell_type": "markdown",
      "source": "### 4.7 Answer"
    },
    {
      "metadata": {
        "trusted": true,
        "scrolled": true
      },
      "cell_type": "code",
      "source": "for thing in ('Got %s' % number for number in range(10)):\n    print(thing)",
      "execution_count": 7,
      "outputs": [
        {
          "output_type": "stream",
          "text": "Got 0\nGot 1\nGot 2\nGot 3\nGot 4\nGot 5\nGot 6\nGot 7\nGot 8\nGot 9\n",
          "name": "stdout"
        }
      ]
    },
    {
      "metadata": {},
      "cell_type": "markdown",
      "source": "### 4.8 Answer"
    },
    {
      "metadata": {
        "trusted": true
      },
      "cell_type": "code",
      "source": "def good():\n    return ['Harry', 'Ron', 'Hermione']\n\ngood()",
      "execution_count": 8,
      "outputs": [
        {
          "output_type": "execute_result",
          "execution_count": 8,
          "data": {
            "text/plain": "['Harry', 'Ron', 'Hermione']"
          },
          "metadata": {}
        }
      ]
    },
    {
      "metadata": {},
      "cell_type": "markdown",
      "source": "### 4.9 Answer"
    },
    {
      "metadata": {
        "trusted": true
      },
      "cell_type": "code",
      "source": "def get_odds():\n    for number in range(1, 10, 2):\n        yield number\n\ncount = 0\nfor number in get_odds():\n    count += 1\n    if count == 3:\n        print(number)\n        break",
      "execution_count": 9,
      "outputs": [
        {
          "output_type": "stream",
          "text": "5\n",
          "name": "stdout"
        }
      ]
    },
    {
      "metadata": {},
      "cell_type": "markdown",
      "source": "### 4.10 Answer\n\nThe use of return in the function that will be decorated will cause the function to stop in the middle of the decorator function."
    },
    {
      "metadata": {
        "trusted": true
      },
      "cell_type": "code",
      "source": "def test(func):\n    def new_func(*args, **kwargs):\n        print('start')\n        result = func(*args, **kwargs)\n        print('end')\n        return     # this return may be void, which won't affect the decorator usage\n    return new_func\n\n@test\ndef add_ints(a, b):\n    print (a + b)\n\nadd_ints(2, 3)",
      "execution_count": 10,
      "outputs": [
        {
          "output_type": "stream",
          "text": "start\n5\nend\n",
          "name": "stdout"
        }
      ]
    },
    {
      "metadata": {},
      "cell_type": "markdown",
      "source": "### 4.11 Answer"
    },
    {
      "metadata": {
        "trusted": true
      },
      "cell_type": "code",
      "source": "class OopsException(Exception):\n    pass\n\nodd_numbers = [1,3,5,6,7,9]\n\ndef isodd(number):\n    if number % 2 == 0:\n        raise OopsException(number)\n    else:\n        print(number)\n\nfor number in odd_numbers:\n    try:\n        isodd(number)\n    except OopsException as exc:\n        print('Caught an oops')",
      "execution_count": 11,
      "outputs": [
        {
          "output_type": "stream",
          "text": "1\n3\n5\nCaught an oops\n7\n9\n",
          "name": "stdout"
        }
      ]
    },
    {
      "metadata": {},
      "cell_type": "markdown",
      "source": "### 4.12 Answer"
    },
    {
      "metadata": {
        "trusted": true
      },
      "cell_type": "code",
      "source": "titles = ['Creature of Habit', 'Crewel Fate']\nplots = ['A nun turns into a monster', 'A haunted yarn shop']\n\nmovies = dict(zip(titles, plots))\n\nmovies",
      "execution_count": 12,
      "outputs": [
        {
          "output_type": "execute_result",
          "execution_count": 12,
          "data": {
            "text/plain": "{'Creature of Habit': 'A nun turns into a monster',\n 'Crewel Fate': 'A haunted yarn shop'}"
          },
          "metadata": {}
        }
      ]
    }
  ],
  "metadata": {
    "kernelspec": {
      "name": "python36",
      "display_name": "Python 3.6",
      "language": "python"
    },
    "language_info": {
      "mimetype": "text/x-python",
      "nbconvert_exporter": "python",
      "name": "python",
      "pygments_lexer": "ipython3",
      "version": "3.6.6",
      "file_extension": ".py",
      "codemirror_mode": {
        "version": 3,
        "name": "ipython"
      }
    }
  },
  "nbformat": 4,
  "nbformat_minor": 2
}