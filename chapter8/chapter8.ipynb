{
  "cells": [
    {
      "metadata": {
        "collapsed": true
      },
      "cell_type": "markdown",
      "source": "# Chapter 8\n## Things to Do"
    },
    {
      "metadata": {},
      "cell_type": "markdown",
      "source": "### 8.1 Answer"
    },
    {
      "metadata": {
        "trusted": true
      },
      "cell_type": "code",
      "source": "test1 = 'This is a test of the emergency text system'\n\nfout = open('test.txt', 'wt')\nfout.write(test1)\nfout.close()",
      "execution_count": 1,
      "outputs": []
    },
    {
      "metadata": {},
      "cell_type": "markdown",
      "source": "### 8.2 Answer"
    },
    {
      "metadata": {
        "trusted": true
      },
      "cell_type": "code",
      "source": "fin = open('test.txt', 'rt')\ntest2 = fin.read()\nfin.close()\n\ntest2 == test1",
      "execution_count": 2,
      "outputs": [
        {
          "output_type": "execute_result",
          "execution_count": 2,
          "data": {
            "text/plain": "True"
          },
          "metadata": {}
        }
      ]
    },
    {
      "metadata": {},
      "cell_type": "markdown",
      "source": "### 8.3 Answer"
    },
    {
      "metadata": {
        "trusted": true
      },
      "cell_type": "code",
      "source": "text = '''author,book\nJ R R Tolkien,The Hobbit\nLynne Truss,\"Eats, Shoots & Leaves\"\n'''\n\nwith open('test.csv', 'wt') as csvfile:\n    csvfile.write(text)",
      "execution_count": 3,
      "outputs": []
    },
    {
      "metadata": {},
      "cell_type": "markdown",
      "source": "### 8.4 Answer"
    },
    {
      "metadata": {
        "trusted": true,
        "scrolled": false
      },
      "cell_type": "code",
      "source": "import csv\n\nwith open('test.csv', 'rt') as fileinput:\n    books = csv.DictReader(fileinput)\n    for book in books:\n        print(book)",
      "execution_count": 4,
      "outputs": [
        {
          "output_type": "stream",
          "text": "OrderedDict([('author', 'J R R Tolkien'), ('book', 'The Hobbit')])\nOrderedDict([('author', 'Lynne Truss'), ('book', 'Eats, Shoots & Leaves')])\n",
          "name": "stdout"
        }
      ]
    },
    {
      "metadata": {},
      "cell_type": "markdown",
      "source": "### 8.5 Answer"
    },
    {
      "metadata": {
        "trusted": true
      },
      "cell_type": "code",
      "source": "text = '''title,author,year\nThe Weirdstone of Brisingamen,Alan Garner,1960\nPerdido Street Station,China Miéville,2000\nThud!,Terry Pratchett,2005\nThe Spellman Files,Lisa Lutz,2007\nSmall Gods,Terry Pratchett,1992\n'''\n\nwith open('books.csv', 'wt') as csvfile:\n    csvfile.write(text)",
      "execution_count": 5,
      "outputs": []
    },
    {
      "metadata": {},
      "cell_type": "markdown",
      "source": "### 8.6 Answer"
    },
    {
      "metadata": {
        "trusted": true
      },
      "cell_type": "code",
      "source": "import sqlite3\n\nconn = sqlite3.connect('books.db')\ncurs = conn.cursor()\ncurs.execute('''CREATE TABLE books\n(title VARCHAR(30) PRIMARY KEY,\nauthor VARCHAR(20),\nyear INT)''')\n",
      "execution_count": 6,
      "outputs": [
        {
          "output_type": "execute_result",
          "execution_count": 6,
          "data": {
            "text/plain": "<sqlite3.Cursor at 0x7f03496a8490>"
          },
          "metadata": {}
        }
      ]
    },
    {
      "metadata": {},
      "cell_type": "markdown",
      "source": "### 8.7 Answer"
    },
    {
      "metadata": {
        "trusted": true
      },
      "cell_type": "code",
      "source": "import csv\n\nwith open('books.csv', 'rt') as csvfile:\n    books = csv.DictReader(csvfile)\n    ins = 'INSERT INTO books (title, author, year) VALUES(?, ?, ?)'\n    for book in books:\n        input = dict(book)\n        curs.execute(ins, (input['title'], input['author'], input['year']))",
      "execution_count": 7,
      "outputs": []
    },
    {
      "metadata": {},
      "cell_type": "markdown",
      "source": "### 8.8 Answer"
    },
    {
      "metadata": {
        "trusted": true
      },
      "cell_type": "code",
      "source": "curs.execute('SELECT title FROM books ORDER BY title ASC')\ncurs.fetchall()",
      "execution_count": 8,
      "outputs": [
        {
          "output_type": "execute_result",
          "execution_count": 8,
          "data": {
            "text/plain": "[('Perdido Street Station',),\n ('Small Gods',),\n ('The Spellman Files',),\n ('The Weirdstone of Brisingamen',),\n ('Thud!',)]"
          },
          "metadata": {}
        }
      ]
    },
    {
      "metadata": {},
      "cell_type": "markdown",
      "source": "### 8.9 Answer"
    },
    {
      "metadata": {
        "trusted": true
      },
      "cell_type": "code",
      "source": "curs.execute('SELECT * FROM books ORDER BY year ASC')\ncurs.fetchall()",
      "execution_count": 9,
      "outputs": [
        {
          "output_type": "execute_result",
          "execution_count": 9,
          "data": {
            "text/plain": "[('The Weirdstone of Brisingamen', 'Alan Garner', 1960),\n ('Small Gods', 'Terry Pratchett', 1992),\n ('Perdido Street Station', 'China Miéville', 2000),\n ('Thud!', 'Terry Pratchett', 2005),\n ('The Spellman Files', 'Lisa Lutz', 2007)]"
          },
          "metadata": {}
        }
      ]
    },
    {
      "metadata": {},
      "cell_type": "markdown",
      "source": "Closing the SQL Datase"
    },
    {
      "metadata": {
        "trusted": true
      },
      "cell_type": "code",
      "source": "curs.close()\nconn.close()",
      "execution_count": 10,
      "outputs": []
    },
    {
      "metadata": {},
      "cell_type": "markdown",
      "source": "### 8.10 Answer"
    },
    {
      "metadata": {
        "trusted": true,
        "slideshow": {
          "slide_type": "slide"
        }
      },
      "cell_type": "markdown",
      "source": "Installing ```sqlalchemy``` package"
    },
    {
      "metadata": {
        "trusted": true
      },
      "cell_type": "code",
      "source": "!pip install sqlalchemy",
      "execution_count": 11,
      "outputs": [
        {
          "output_type": "stream",
          "text": "Requirement already satisfied: sqlalchemy in /home/nbuser/anaconda3_501/lib/python3.6/site-packages (1.2.14)\n\u001b[33mWARNING: You are using pip version 19.3.1; however, version 20.1 is available.\nYou should consider upgrading via the 'pip install --upgrade pip' command.\u001b[0m\n",
          "name": "stdout"
        }
      ]
    },
    {
      "metadata": {
        "trusted": true
      },
      "cell_type": "code",
      "source": "import sqlalchemy as sa\n\nconn = sa.create_engine('sqlite:///books.db')\nrows = conn.execute('SELECT title FROM books ORDER BY title ASC')\n\nfor row in rows:\n    print(row)",
      "execution_count": 12,
      "outputs": []
    },
    {
      "metadata": {},
      "cell_type": "markdown",
      "source": "Strangely enough, I couldn't understand why it didn't print the information from book table."
    },
    {
      "metadata": {},
      "cell_type": "markdown",
      "source": "### 8.11 Answer"
    },
    {
      "metadata": {},
      "cell_type": "markdown",
      "source": "Installing ```redis``` package"
    },
    {
      "metadata": {
        "trusted": true
      },
      "cell_type": "code",
      "source": "!pip install redis",
      "execution_count": 13,
      "outputs": [
        {
          "output_type": "stream",
          "text": "Requirement already satisfied: redis in /home/nbuser/anaconda3_501/lib/python3.6/site-packages (3.5.1)\n\u001b[33mWARNING: You are using pip version 19.3.1; however, version 20.1 is available.\nYou should consider upgrading via the 'pip install --upgrade pip' command.\u001b[0m\n",
          "name": "stdout"
        }
      ]
    },
    {
      "metadata": {
        "trusted": true
      },
      "cell_type": "code",
      "source": "import redis\n\nconn = redis.Redis()\nconn.hmset('test', {'count': 1, 'name': 'Fester Bestertester'})\nconn.hgetall('test')",
      "execution_count": 14,
      "outputs": [
        {
          "output_type": "stream",
          "text": "/home/nbuser/anaconda3_501/lib/python3.6/site-packages/ipykernel/__main__.py:4: DeprecationWarning: Redis.hmset() is deprecated. Use Redis.hset() instead.\n",
          "name": "stderr"
        },
        {
          "output_type": "execute_result",
          "execution_count": 14,
          "data": {
            "text/plain": "{b'count': b'1', b'name': b'Fester Bestertester'}"
          },
          "metadata": {}
        }
      ]
    },
    {
      "metadata": {},
      "cell_type": "markdown",
      "source": "### 8.12 Answer"
    },
    {
      "metadata": {
        "trusted": true
      },
      "cell_type": "code",
      "source": "conn.hincrby('test', 'count', 3)\nconn.hget('test', 'count')",
      "execution_count": 15,
      "outputs": [
        {
          "output_type": "execute_result",
          "execution_count": 15,
          "data": {
            "text/plain": "b'4'"
          },
          "metadata": {}
        }
      ]
    }
  ],
  "metadata": {
    "kernelspec": {
      "name": "python36",
      "display_name": "Python 3.6",
      "language": "python"
    },
    "language_info": {
      "mimetype": "text/x-python",
      "nbconvert_exporter": "python",
      "name": "python",
      "pygments_lexer": "ipython3",
      "version": "3.6.6",
      "file_extension": ".py",
      "codemirror_mode": {
        "version": 3,
        "name": "ipython"
      }
    }
  },
  "nbformat": 4,
  "nbformat_minor": 2
}