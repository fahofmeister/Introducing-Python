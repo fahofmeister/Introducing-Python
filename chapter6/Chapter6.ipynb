{
  "cells": [
    {
      "metadata": {
        "collapsed": true
      },
      "cell_type": "markdown",
      "source": "# Chapter 6\n## Things to Do"
    },
    {
      "metadata": {},
      "cell_type": "markdown",
      "source": "### 6.1 Answer"
    },
    {
      "metadata": {
        "trusted": true
      },
      "cell_type": "code",
      "source": "class Thing():\n    pass\n\nprint(Thing)\n\nexample = Thing()\n\nprint(example)",
      "execution_count": 1,
      "outputs": [
        {
          "output_type": "stream",
          "text": "<class '__main__.Thing'>\n<__main__.Thing object at 0x7fb97ad28ac8>\n",
          "name": "stdout"
        }
      ]
    },
    {
      "metadata": {},
      "cell_type": "markdown",
      "source": "### 6.2 Answer"
    },
    {
      "metadata": {
        "trusted": true
      },
      "cell_type": "code",
      "source": "class Thing2():\n    letters = 'abc'\n\nprint(Thing2.letters)",
      "execution_count": 2,
      "outputs": [
        {
          "output_type": "stream",
          "text": "abc\n",
          "name": "stdout"
        }
      ]
    },
    {
      "metadata": {},
      "cell_type": "markdown",
      "source": "### 6.3 Answer"
    },
    {
      "metadata": {
        "trusted": true
      },
      "cell_type": "code",
      "source": "class Thing3():\n    def __init__(self):\n        self.letters = 'xyz'\n\n# try-exception structure used to avoid the code termination\ntry:\n    print(Thing3.letters)\nexcept Exception as err:\n    print(err)\n\nsomething = Thing3()\nprint(something.letters)",
      "execution_count": 3,
      "outputs": [
        {
          "output_type": "stream",
          "text": "type object 'Thing3' has no attribute 'letters'\nxyz\n",
          "name": "stdout"
        }
      ]
    },
    {
      "metadata": {},
      "cell_type": "markdown",
      "source": "### 6.4 Answer "
    },
    {
      "metadata": {
        "trusted": true
      },
      "cell_type": "code",
      "source": "class Element():\n    def __init__(self, name, symbol, number):\n        self.name = name\n        self.symbol = symbol\n        self.number = number\n        print('Created', self.name, 'element with the symbol',\n             self.symbol, 'and number', self.number)\n\nmy_element = Element('Hydrogen', 'H', 1)",
      "execution_count": 4,
      "outputs": [
        {
          "output_type": "stream",
          "text": "Created Hydrogen element with the symbol H and number 1\n",
          "name": "stdout"
        }
      ]
    },
    {
      "metadata": {},
      "cell_type": "markdown",
      "source": "### 6.5 Answer"
    },
    {
      "metadata": {
        "trusted": true
      },
      "cell_type": "code",
      "source": "edict = {\n    'name': 'Hydrogen',\n    'symbol': 'H',\n    'number': 1,\n}\n\nhydrogen = Element(**edict)\n",
      "execution_count": 5,
      "outputs": [
        {
          "output_type": "stream",
          "text": "Created Hydrogen element with the symbol H and number 1\n",
          "name": "stdout"
        }
      ]
    },
    {
      "metadata": {},
      "cell_type": "markdown",
      "source": "### 6.6 Answer"
    },
    {
      "metadata": {
        "trusted": true
      },
      "cell_type": "code",
      "source": "class Element():\n    def __init__(self, name, symbol, number):\n        self.name = name\n        self.symbol = symbol\n        self.number = number\n        print('Created', self.name, 'element with the symbol',\n             self.symbol, 'and number', self.number)\n    def dump(self):\n        print('I am', self.name)\n        print('My symbol is', self.symbol)\n        print('And my number is', self.number)\n\nhydrogen = Element('Hydrogen', 'H', 1)\n\nhydrogen.dump()",
      "execution_count": 6,
      "outputs": [
        {
          "output_type": "stream",
          "text": "Created Hydrogen element with the symbol H and number 1\nI am Hydrogen\nMy symbol is H\nAnd my number is 1\n",
          "name": "stdout"
        }
      ]
    },
    {
      "metadata": {},
      "cell_type": "markdown",
      "source": "### 6.7 Answer"
    },
    {
      "metadata": {
        "trusted": true
      },
      "cell_type": "code",
      "source": "print(hydrogen)",
      "execution_count": 7,
      "outputs": [
        {
          "output_type": "stream",
          "text": "<__main__.Element object at 0x7fb97acdec50>\n",
          "name": "stdout"
        }
      ]
    },
    {
      "metadata": {
        "trusted": true
      },
      "cell_type": "code",
      "source": "class Element():\n    def __init__(self, name, symbol, number):\n        self.name = name\n        self.symbol = symbol\n        self.number = number\n        print('Created', self.name, 'element with the symbol',\n             self.symbol, 'and number', self.number)\n    def __str__(self):\n        return ('I am %s, my symbol is %s and my number is %s' %\n                (self.name, self.symbol, self.number))\n                \nhydrogen = Element('Hydrogen', 'H', 1)\n\nprint(hydrogen)",
      "execution_count": 10,
      "outputs": [
        {
          "output_type": "stream",
          "text": "Created Hydrogen element with the symbol H and number 1\nI am Hydrogen, my symbol is H and my number is 1\n",
          "name": "stdout"
        }
      ]
    },
    {
      "metadata": {},
      "cell_type": "markdown",
      "source": "### 6.8 Answer"
    },
    {
      "metadata": {
        "trusted": true
      },
      "cell_type": "code",
      "source": "class Element():\n    def __init__(self, name, symbol, number):\n        self.__name = name\n        self.__symbol = symbol\n        self.__number = number\n        print('Created', self.__name, 'element with the symbol',\n             self.__symbol, 'and number', self.__number)\n    def __str__(self):\n        return ('I am %s, my symbol is %s and my number is %s' %\n                (self.name, self.symbol, self.__number))\n    @property\n    def name(self):\n        return self.__name\n    \n    @property\n    def symbol(self):\n        return self.__symbol\n    \n    @property\n    def number(self):\n        return self.__number\n    \nhydrogen = Element('Hydrogen', 'H', 1)\n\nprint(hydrogen.name)\nprint(hydrogen.symbol)\nprint(hydrogen.number)",
      "execution_count": 2,
      "outputs": [
        {
          "output_type": "stream",
          "text": "Created Hydrogen element with the symbol H and number 1\nHydrogen\nH\n1\n",
          "name": "stdout"
        }
      ]
    },
    {
      "metadata": {},
      "cell_type": "markdown",
      "source": "### 6.9 Answer"
    },
    {
      "metadata": {
        "trusted": true
      },
      "cell_type": "code",
      "source": "class Bear():\n    def eats(self):\n        return ('berries')\n\nclass Rabbit():\n    def eats(self):\n        return ('clover')\n\nclass Octothorpe():\n    def eats(self):\n        return ('campers')\n\ngreazy = Bear()\nbugs = Rabbit()\nmonster = Octothorpe()\n\nprint(greazy.eats())\nprint(bugs.eats())\nprint(monster.eats())",
      "execution_count": 8,
      "outputs": [
        {
          "output_type": "stream",
          "text": "berries\nclover\ncampers\n",
          "name": "stdout"
        }
      ]
    },
    {
      "metadata": {},
      "cell_type": "markdown",
      "source": "### 6.10 Answer"
    },
    {
      "metadata": {
        "trusted": true
      },
      "cell_type": "code",
      "source": "class Laser():\n    def does(self):\n        return 'disintegrate'\n    \nclass Claw():\n    def does(self):\n        return 'crush'\n    \nclass SmartPhone():\n    def does(self):\n        return 'ring'\n    \nclass Robot():\n    def __init__(self):\n        self.laser = Laser()\n        self.claw = Claw()\n        self.smartphone = SmartPhone()\n    def does(self):\n        return '''I have many attachments:\n        My laser, to %s.\n        My claw, to %s\n        My smartphone, to %s.'''%(\n        self.laser.does(),\n        self.claw.does(),\n        self.smartphone.does() )\n        \nrobbie = Robot()\n\nprint(robbie.does())",
      "execution_count": 16,
      "outputs": [
        {
          "output_type": "stream",
          "text": "I have many attachments:\n        My laser, to disintegrate.\n        My claw, to crush\n        My smartphone, to ring.\n",
          "name": "stdout"
        }
      ]
    }
  ],
  "metadata": {
    "kernelspec": {
      "name": "python36",
      "display_name": "Python 3.6",
      "language": "python"
    },
    "language_info": {
      "mimetype": "text/x-python",
      "nbconvert_exporter": "python",
      "name": "python",
      "pygments_lexer": "ipython3",
      "version": "3.6.6",
      "file_extension": ".py",
      "codemirror_mode": {
        "version": 3,
        "name": "ipython"
      }
    }
  },
  "nbformat": 4,
  "nbformat_minor": 2
}